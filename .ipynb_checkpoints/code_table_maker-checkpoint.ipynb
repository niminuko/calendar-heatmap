{
 "cells": [
  {
   "cell_type": "markdown",
   "metadata": {},
   "source": [
    "# Adding Support for Other Locations\n",
    "In order to create a heatmap calendar for a given location for a given year, the `wunderground` API evidently requires the request to refer to the location by its ICAO airport code. Therefore, this Jupyter Notebook goes through the construction of a pandas DataFrame for locations and their associated codes. \n",
    "\n",
    "Fortunately, the pandas library has support for HTML and thus allows for table extraction (somewhat):"
   ]
  },
  {
   "cell_type": "code",
   "execution_count": 1,
   "metadata": {},
   "outputs": [
    {
     "data": {
      "text/html": [
       "<div>\n",
       "<style scoped>\n",
       "    .dataframe tbody tr th:only-of-type {\n",
       "        vertical-align: middle;\n",
       "    }\n",
       "\n",
       "    .dataframe tbody tr th {\n",
       "        vertical-align: top;\n",
       "    }\n",
       "\n",
       "    .dataframe thead th {\n",
       "        text-align: right;\n",
       "    }\n",
       "</style>\n",
       "<table border=\"1\" class=\"dataframe\">\n",
       "  <thead>\n",
       "    <tr style=\"text-align: right;\">\n",
       "      <th></th>\n",
       "      <th>City</th>\n",
       "      <th>FAA</th>\n",
       "      <th>IATA</th>\n",
       "      <th>ICAO</th>\n",
       "      <th>Airport</th>\n",
       "      <th>Role</th>\n",
       "      <th>Enplanements</th>\n",
       "    </tr>\n",
       "  </thead>\n",
       "  <tbody>\n",
       "    <tr>\n",
       "      <th>0</th>\n",
       "      <td>ALABAMA</td>\n",
       "      <td>NaN</td>\n",
       "      <td>NaN</td>\n",
       "      <td>NaN</td>\n",
       "      <td>NaN</td>\n",
       "      <td>NaN</td>\n",
       "      <td>NaN</td>\n",
       "    </tr>\n",
       "    <tr>\n",
       "      <th>1</th>\n",
       "      <td>Birmingham</td>\n",
       "      <td>BHM</td>\n",
       "      <td>BHM</td>\n",
       "      <td>KBHM</td>\n",
       "      <td>Birmingham–Shuttlesworth International Airport</td>\n",
       "      <td>P-S</td>\n",
       "      <td>1304467.0</td>\n",
       "    </tr>\n",
       "    <tr>\n",
       "      <th>2</th>\n",
       "      <td>Dothan</td>\n",
       "      <td>DHN</td>\n",
       "      <td>DHN</td>\n",
       "      <td>KDHN</td>\n",
       "      <td>Dothan Regional Airport</td>\n",
       "      <td>P-N</td>\n",
       "      <td>49411.0</td>\n",
       "    </tr>\n",
       "    <tr>\n",
       "      <th>3</th>\n",
       "      <td>Huntsville</td>\n",
       "      <td>HSV</td>\n",
       "      <td>HSV</td>\n",
       "      <td>KHSV</td>\n",
       "      <td>Huntsville International Airport (Carl T. Jone...</td>\n",
       "      <td>P-S</td>\n",
       "      <td>527801.0</td>\n",
       "    </tr>\n",
       "    <tr>\n",
       "      <th>4</th>\n",
       "      <td>Mobile</td>\n",
       "      <td>MOB</td>\n",
       "      <td>MOB</td>\n",
       "      <td>KMOB</td>\n",
       "      <td>Mobile Regional Airport</td>\n",
       "      <td>P-N</td>\n",
       "      <td>288209.0</td>\n",
       "    </tr>\n",
       "  </tbody>\n",
       "</table>\n",
       "</div>"
      ],
      "text/plain": [
       "         City  FAA IATA  ICAO  \\\n",
       "0     ALABAMA  NaN  NaN   NaN   \n",
       "1  Birmingham  BHM  BHM  KBHM   \n",
       "2      Dothan  DHN  DHN  KDHN   \n",
       "3  Huntsville  HSV  HSV  KHSV   \n",
       "4      Mobile  MOB  MOB  KMOB   \n",
       "\n",
       "                                             Airport Role  Enplanements  \n",
       "0                                                NaN  NaN           NaN  \n",
       "1     Birmingham–Shuttlesworth International Airport  P-S     1304467.0  \n",
       "2                            Dothan Regional Airport  P-N       49411.0  \n",
       "3  Huntsville International Airport (Carl T. Jone...  P-S      527801.0  \n",
       "4                            Mobile Regional Airport  P-N      288209.0  "
      ]
     },
     "execution_count": 1,
     "metadata": {},
     "output_type": "execute_result"
    }
   ],
   "source": [
    "import pandas as pd\n",
    "\n",
    "df = pd.read_html('https://en.wikipedia.org/wiki/List_of_airports_in_the_United_States')[2]\n",
    "df.head()"
   ]
  },
  {
   "cell_type": "markdown",
   "metadata": {},
   "source": [
    "It appears that the states have not been correctly extracted; however, a quick iteration over the dataframe captures the states."
   ]
  },
  {
   "cell_type": "code",
   "execution_count": 2,
   "metadata": {},
   "outputs": [
    {
     "data": {
      "text/html": [
       "<div>\n",
       "<style scoped>\n",
       "    .dataframe tbody tr th:only-of-type {\n",
       "        vertical-align: middle;\n",
       "    }\n",
       "\n",
       "    .dataframe tbody tr th {\n",
       "        vertical-align: top;\n",
       "    }\n",
       "\n",
       "    .dataframe thead th {\n",
       "        text-align: right;\n",
       "    }\n",
       "</style>\n",
       "<table border=\"1\" class=\"dataframe\">\n",
       "  <thead>\n",
       "    <tr style=\"text-align: right;\">\n",
       "      <th></th>\n",
       "      <th>City</th>\n",
       "      <th>FAA</th>\n",
       "      <th>IATA</th>\n",
       "      <th>ICAO</th>\n",
       "      <th>Airport</th>\n",
       "      <th>Role</th>\n",
       "      <th>Enplanements</th>\n",
       "    </tr>\n",
       "  </thead>\n",
       "  <tbody>\n",
       "    <tr>\n",
       "      <th>0</th>\n",
       "      <td>ALABAMA</td>\n",
       "      <td>NaN</td>\n",
       "      <td>NaN</td>\n",
       "      <td>NaN</td>\n",
       "      <td>NaN</td>\n",
       "      <td>NaN</td>\n",
       "      <td>NaN</td>\n",
       "    </tr>\n",
       "    <tr>\n",
       "      <th>6</th>\n",
       "      <td>ALASKA</td>\n",
       "      <td>NaN</td>\n",
       "      <td>NaN</td>\n",
       "      <td>NaN</td>\n",
       "      <td>NaN</td>\n",
       "      <td>NaN</td>\n",
       "      <td>NaN</td>\n",
       "    </tr>\n",
       "    <tr>\n",
       "      <th>7</th>\n",
       "      <td>Anchorage</td>\n",
       "      <td>LHD</td>\n",
       "      <td>NaN</td>\n",
       "      <td>PALH</td>\n",
       "      <td>Lake Hood Seaplane Base (also see Lake Hood Ai...</td>\n",
       "      <td>P-N</td>\n",
       "      <td>23382.0</td>\n",
       "    </tr>\n",
       "    <tr>\n",
       "      <th>35</th>\n",
       "      <td>ARIZONA</td>\n",
       "      <td>NaN</td>\n",
       "      <td>NaN</td>\n",
       "      <td>NaN</td>\n",
       "      <td>NaN</td>\n",
       "      <td>NaN</td>\n",
       "      <td>NaN</td>\n",
       "    </tr>\n",
       "    <tr>\n",
       "      <th>45</th>\n",
       "      <td>ARKANSAS</td>\n",
       "      <td>NaN</td>\n",
       "      <td>NaN</td>\n",
       "      <td>NaN</td>\n",
       "      <td>NaN</td>\n",
       "      <td>NaN</td>\n",
       "      <td>NaN</td>\n",
       "    </tr>\n",
       "  </tbody>\n",
       "</table>\n",
       "</div>"
      ],
      "text/plain": [
       "         City  FAA IATA  ICAO  \\\n",
       "0     ALABAMA  NaN  NaN   NaN   \n",
       "6      ALASKA  NaN  NaN   NaN   \n",
       "7   Anchorage  LHD  NaN  PALH   \n",
       "35    ARIZONA  NaN  NaN   NaN   \n",
       "45   ARKANSAS  NaN  NaN   NaN   \n",
       "\n",
       "                                              Airport Role  Enplanements  \n",
       "0                                                 NaN  NaN           NaN  \n",
       "6                                                 NaN  NaN           NaN  \n",
       "7   Lake Hood Seaplane Base (also see Lake Hood Ai...  P-N       23382.0  \n",
       "35                                                NaN  NaN           NaN  \n",
       "45                                                NaN  NaN           NaN  "
      ]
     },
     "execution_count": 2,
     "metadata": {},
     "output_type": "execute_result"
    }
   ],
   "source": [
    "iterate = df[df.isna().any(axis=1)]\n",
    "iterate[:5]"
   ]
  },
  {
   "cell_type": "markdown",
   "metadata": {},
   "source": [
    "It wasn't a perfect filter, but tolerable."
   ]
  },
  {
   "cell_type": "code",
   "execution_count": 3,
   "metadata": {},
   "outputs": [
    {
     "data": {
      "text/plain": [
       "['ALABAMA', 'ALASKA', 'ARIZONA', 'ARKANSAS', 'CALIFORNIA']"
      ]
     },
     "execution_count": 3,
     "metadata": {},
     "output_type": "execute_result"
    }
   ],
   "source": [
    "states = [state for state in iterate['City'] if state != 'Anchorage']\n",
    "states[:5]"
   ]
  },
  {
   "cell_type": "markdown",
   "metadata": {},
   "source": [
    "The index of each state in the 'City' column is captured so that a new 'State' index may be created."
   ]
  },
  {
   "cell_type": "code",
   "execution_count": 4,
   "metadata": {},
   "outputs": [],
   "source": [
    "idx_purge = []\n",
    "\n",
    "for idx in range(len(df['City'])):\n",
    "    if df['City'][idx] in states:\n",
    "        idx_purge.append(idx)"
   ]
  },
  {
   "cell_type": "code",
   "execution_count": 5,
   "metadata": {},
   "outputs": [
    {
     "data": {
      "text/plain": [
       "[0, 6, 35, 45, 50]"
      ]
     },
     "execution_count": 5,
     "metadata": {},
     "output_type": "execute_result"
    }
   ],
   "source": [
    "idx_purge[:5]"
   ]
  },
  {
   "cell_type": "markdown",
   "metadata": {},
   "source": [
    "Verify that this selection has no state data at the beginning or end."
   ]
  },
  {
   "cell_type": "code",
   "execution_count": 6,
   "metadata": {},
   "outputs": [
    {
     "data": {
      "text/html": [
       "<div>\n",
       "<style scoped>\n",
       "    .dataframe tbody tr th:only-of-type {\n",
       "        vertical-align: middle;\n",
       "    }\n",
       "\n",
       "    .dataframe tbody tr th {\n",
       "        vertical-align: top;\n",
       "    }\n",
       "\n",
       "    .dataframe thead th {\n",
       "        text-align: right;\n",
       "    }\n",
       "</style>\n",
       "<table border=\"1\" class=\"dataframe\">\n",
       "  <thead>\n",
       "    <tr style=\"text-align: right;\">\n",
       "      <th></th>\n",
       "      <th>City</th>\n",
       "      <th>FAA</th>\n",
       "      <th>IATA</th>\n",
       "      <th>ICAO</th>\n",
       "      <th>Airport</th>\n",
       "      <th>Role</th>\n",
       "      <th>Enplanements</th>\n",
       "    </tr>\n",
       "  </thead>\n",
       "  <tbody>\n",
       "    <tr>\n",
       "      <th>1</th>\n",
       "      <td>Birmingham</td>\n",
       "      <td>BHM</td>\n",
       "      <td>BHM</td>\n",
       "      <td>KBHM</td>\n",
       "      <td>Birmingham–Shuttlesworth International Airport</td>\n",
       "      <td>P-S</td>\n",
       "      <td>1304467.0</td>\n",
       "    </tr>\n",
       "    <tr>\n",
       "      <th>2</th>\n",
       "      <td>Dothan</td>\n",
       "      <td>DHN</td>\n",
       "      <td>DHN</td>\n",
       "      <td>KDHN</td>\n",
       "      <td>Dothan Regional Airport</td>\n",
       "      <td>P-N</td>\n",
       "      <td>49411.0</td>\n",
       "    </tr>\n",
       "    <tr>\n",
       "      <th>3</th>\n",
       "      <td>Huntsville</td>\n",
       "      <td>HSV</td>\n",
       "      <td>HSV</td>\n",
       "      <td>KHSV</td>\n",
       "      <td>Huntsville International Airport (Carl T. Jone...</td>\n",
       "      <td>P-S</td>\n",
       "      <td>527801.0</td>\n",
       "    </tr>\n",
       "    <tr>\n",
       "      <th>4</th>\n",
       "      <td>Mobile</td>\n",
       "      <td>MOB</td>\n",
       "      <td>MOB</td>\n",
       "      <td>KMOB</td>\n",
       "      <td>Mobile Regional Airport</td>\n",
       "      <td>P-N</td>\n",
       "      <td>288209.0</td>\n",
       "    </tr>\n",
       "  </tbody>\n",
       "</table>\n",
       "</div>"
      ],
      "text/plain": [
       "         City  FAA IATA  ICAO  \\\n",
       "1  Birmingham  BHM  BHM  KBHM   \n",
       "2      Dothan  DHN  DHN  KDHN   \n",
       "3  Huntsville  HSV  HSV  KHSV   \n",
       "4      Mobile  MOB  MOB  KMOB   \n",
       "\n",
       "                                             Airport Role  Enplanements  \n",
       "1     Birmingham–Shuttlesworth International Airport  P-S     1304467.0  \n",
       "2                            Dothan Regional Airport  P-N       49411.0  \n",
       "3  Huntsville International Airport (Carl T. Jone...  P-S      527801.0  \n",
       "4                            Mobile Regional Airport  P-N      288209.0  "
      ]
     },
     "execution_count": 6,
     "metadata": {},
     "output_type": "execute_result"
    }
   ],
   "source": [
    "df[1:5]"
   ]
  },
  {
   "cell_type": "markdown",
   "metadata": {},
   "source": [
    "Each 'chunk' of the DataFrame within intervals of `idx_purge` belongs to one state. Iterate over the indices in `idx_purge` and get each chunk into a list."
   ]
  },
  {
   "cell_type": "code",
   "execution_count": 7,
   "metadata": {},
   "outputs": [],
   "source": [
    "chunks = []\n",
    "\n",
    "for idx in range(len(idx_purge) - 1):\n",
    "    lower = idx_purge[idx] + 1\n",
    "    upper = idx_purge[idx + 1]\n",
    "    chunks.append(df.iloc[lower:upper])\n",
    "    \n",
    "# Capture the last one\n",
    "term = idx_purge[-1] + 1\n",
    "chunks.append(df[term:])"
   ]
  },
  {
   "cell_type": "markdown",
   "metadata": {},
   "source": [
    "Make a column within each chunk of the DataFrame for the state they share. After iterating through each chunk, concatenate them all into a pandas DataFrame.\n",
    "\n",
    "The warning happens with and/or without the use of `.loc` but it is of no concern."
   ]
  },
  {
   "cell_type": "code",
   "execution_count": 10,
   "metadata": {},
   "outputs": [
    {
     "name": "stderr",
     "output_type": "stream",
     "text": [
      "<ipython-input-10-b1723c35d2f6>:5: SettingWithCopyWarning: \n",
      "A value is trying to be set on a copy of a slice from a DataFrame.\n",
      "Try using .loc[row_indexer,col_indexer] = value instead\n",
      "\n",
      "See the caveats in the documentation: https://pandas.pydata.org/pandas-docs/stable/user_guide/indexing.html#returning-a-view-versus-a-copy\n",
      "  temp['State'] = states[idx]\n"
     ]
    }
   ],
   "source": [
    "temp_gatherer = []\n",
    "\n",
    "for idx in range(len(chunks)):\n",
    "    temp = chunks[idx]\n",
    "    temp['State'] = states[idx]\n",
    "    temp_gatherer.append(temp)"
   ]
  },
  {
   "cell_type": "code",
   "execution_count": 14,
   "metadata": {},
   "outputs": [
    {
     "data": {
      "text/html": [
       "<div>\n",
       "<style scoped>\n",
       "    .dataframe tbody tr th:only-of-type {\n",
       "        vertical-align: middle;\n",
       "    }\n",
       "\n",
       "    .dataframe tbody tr th {\n",
       "        vertical-align: top;\n",
       "    }\n",
       "\n",
       "    .dataframe thead th {\n",
       "        text-align: right;\n",
       "    }\n",
       "</style>\n",
       "<table border=\"1\" class=\"dataframe\">\n",
       "  <thead>\n",
       "    <tr style=\"text-align: right;\">\n",
       "      <th></th>\n",
       "      <th>City</th>\n",
       "      <th>FAA</th>\n",
       "      <th>IATA</th>\n",
       "      <th>ICAO</th>\n",
       "      <th>Airport</th>\n",
       "      <th>Role</th>\n",
       "      <th>Enplanements</th>\n",
       "      <th>State</th>\n",
       "    </tr>\n",
       "  </thead>\n",
       "  <tbody>\n",
       "    <tr>\n",
       "      <th>1</th>\n",
       "      <td>BIRMINGHAM</td>\n",
       "      <td>BHM</td>\n",
       "      <td>BHM</td>\n",
       "      <td>KBHM</td>\n",
       "      <td>Birmingham–Shuttlesworth International Airport</td>\n",
       "      <td>P-S</td>\n",
       "      <td>1304467.0</td>\n",
       "      <td>ALABAMA</td>\n",
       "    </tr>\n",
       "    <tr>\n",
       "      <th>2</th>\n",
       "      <td>DOTHAN</td>\n",
       "      <td>DHN</td>\n",
       "      <td>DHN</td>\n",
       "      <td>KDHN</td>\n",
       "      <td>Dothan Regional Airport</td>\n",
       "      <td>P-N</td>\n",
       "      <td>49411.0</td>\n",
       "      <td>ALABAMA</td>\n",
       "    </tr>\n",
       "    <tr>\n",
       "      <th>3</th>\n",
       "      <td>HUNTSVILLE</td>\n",
       "      <td>HSV</td>\n",
       "      <td>HSV</td>\n",
       "      <td>KHSV</td>\n",
       "      <td>Huntsville International Airport (Carl T. Jone...</td>\n",
       "      <td>P-S</td>\n",
       "      <td>527801.0</td>\n",
       "      <td>ALABAMA</td>\n",
       "    </tr>\n",
       "    <tr>\n",
       "      <th>4</th>\n",
       "      <td>MOBILE</td>\n",
       "      <td>MOB</td>\n",
       "      <td>MOB</td>\n",
       "      <td>KMOB</td>\n",
       "      <td>Mobile Regional Airport</td>\n",
       "      <td>P-N</td>\n",
       "      <td>288209.0</td>\n",
       "      <td>ALABAMA</td>\n",
       "    </tr>\n",
       "    <tr>\n",
       "      <th>5</th>\n",
       "      <td>MONTGOMERY</td>\n",
       "      <td>MGM</td>\n",
       "      <td>MGM</td>\n",
       "      <td>KMGM</td>\n",
       "      <td>Montgomery Regional Airport (Dannelly Field)</td>\n",
       "      <td>P-N</td>\n",
       "      <td>173210.0</td>\n",
       "      <td>ALABAMA</td>\n",
       "    </tr>\n",
       "  </tbody>\n",
       "</table>\n",
       "</div>"
      ],
      "text/plain": [
       "         City  FAA IATA  ICAO  \\\n",
       "1  BIRMINGHAM  BHM  BHM  KBHM   \n",
       "2      DOTHAN  DHN  DHN  KDHN   \n",
       "3  HUNTSVILLE  HSV  HSV  KHSV   \n",
       "4      MOBILE  MOB  MOB  KMOB   \n",
       "5  MONTGOMERY  MGM  MGM  KMGM   \n",
       "\n",
       "                                             Airport Role  Enplanements  \\\n",
       "1     Birmingham–Shuttlesworth International Airport  P-S     1304467.0   \n",
       "2                            Dothan Regional Airport  P-N       49411.0   \n",
       "3  Huntsville International Airport (Carl T. Jone...  P-S      527801.0   \n",
       "4                            Mobile Regional Airport  P-N      288209.0   \n",
       "5       Montgomery Regional Airport (Dannelly Field)  P-N      173210.0   \n",
       "\n",
       "     State  \n",
       "1  ALABAMA  \n",
       "2  ALABAMA  \n",
       "3  ALABAMA  \n",
       "4  ALABAMA  \n",
       "5  ALABAMA  "
      ]
     },
     "execution_count": 14,
     "metadata": {},
     "output_type": "execute_result"
    }
   ],
   "source": [
    "complete_df = pd.concat(temp_gatherer)\n",
    "complete_df['City'] = [city.upper() for city in complete_df['City']]\n",
    "complete_df.head()"
   ]
  },
  {
   "cell_type": "markdown",
   "metadata": {},
   "source": [
    "Save the DataFrame to `.csv` format."
   ]
  },
  {
   "cell_type": "code",
   "execution_count": 15,
   "metadata": {},
   "outputs": [],
   "source": [
    "complete_df.to_csv('code_table.csv')"
   ]
  }
 ],
 "metadata": {
  "kernelspec": {
   "display_name": "Python 3",
   "language": "python",
   "name": "python3"
  },
  "language_info": {
   "codemirror_mode": {
    "name": "ipython",
    "version": 3
   },
   "file_extension": ".py",
   "mimetype": "text/x-python",
   "name": "python",
   "nbconvert_exporter": "python",
   "pygments_lexer": "ipython3",
   "version": "3.8.5"
  }
 },
 "nbformat": 4,
 "nbformat_minor": 4
}
