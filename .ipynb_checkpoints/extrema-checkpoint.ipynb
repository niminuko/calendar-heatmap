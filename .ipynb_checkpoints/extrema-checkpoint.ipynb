{
 "cells": [
  {
   "cell_type": "code",
   "execution_count": 1,
   "metadata": {},
   "outputs": [],
   "source": [
    "# Days to start and end on. Note that '2' (Feb.) needs leap-year adjusting for its end date!\n",
    "dates = {'1': (1, 31), '2': (1, 28), '3': (1, 31),\n",
    "         '4': (1, 30), '5': (1, 31), '6': (1, 30),\n",
    "         '7': (1, 31), '8': (1, 31), '9': (1, 30),\n",
    "         '10': (1, 31), '11': (1, 30), '12': (1, 31)}\n",
    "years = [year for year in range(2011, 2021)]"
   ]
  },
  {
   "cell_type": "code",
   "execution_count": 2,
   "metadata": {},
   "outputs": [
    {
     "data": {
      "text/plain": [
       "['0101', '0201', '0301', '0401', '0501']"
      ]
     },
     "execution_count": 2,
     "metadata": {},
     "output_type": "execute_result"
    }
   ],
   "source": [
    "monthly_start = []\n",
    "\n",
    "for idx, col in dates.items():\n",
    "    format_date = ''\n",
    "    format_date = format_date + str(idx).zfill(2)\n",
    "    format_date = format_date + str(col[0]).zfill(2)\n",
    "    monthly_start.append(format_date)\n",
    "\n",
    "monthly_start[:5]"
   ]
  },
  {
   "cell_type": "code",
   "execution_count": 3,
   "metadata": {},
   "outputs": [],
   "source": [
    "start_dates = []\n",
    "for year in years:\n",
    "    for start in monthly_start:\n",
    "        format_date = str(year) + str(start)\n",
    "        start_dates.append(format_date)"
   ]
  },
  {
   "cell_type": "code",
   "execution_count": 4,
   "metadata": {},
   "outputs": [
    {
     "data": {
      "text/plain": [
       "['20110101', '20110201', '20110301', '20110401', '20110501']"
      ]
     },
     "execution_count": 4,
     "metadata": {},
     "output_type": "execute_result"
    }
   ],
   "source": [
    "start_dates[:5]"
   ]
  },
  {
   "cell_type": "code",
   "execution_count": 5,
   "metadata": {},
   "outputs": [
    {
     "data": {
      "text/plain": [
       "['0131', '0228', '0331', '0430', '0531']"
      ]
     },
     "execution_count": 5,
     "metadata": {},
     "output_type": "execute_result"
    }
   ],
   "source": [
    "monthly_end = []\n",
    "\n",
    "for idx, col in dates.items():\n",
    "    format_date = ''\n",
    "    format_date = format_date + str(idx).zfill(2)\n",
    "    format_date = format_date + str(col[1]).zfill(2)\n",
    "    monthly_end.append(format_date)\n",
    "\n",
    "monthly_end[:5]"
   ]
  },
  {
   "cell_type": "code",
   "execution_count": 6,
   "metadata": {},
   "outputs": [],
   "source": [
    "end_dates = []\n",
    "for year in years:\n",
    "    for end in monthly_end:\n",
    "        if year % 4 == 0:\n",
    "            end = end.replace('0228', '0229')\n",
    "        format_date = str(year) + str(end)\n",
    "        end_dates.append(format_date)"
   ]
  },
  {
   "cell_type": "code",
   "execution_count": 7,
   "metadata": {},
   "outputs": [
    {
     "data": {
      "text/plain": [
       "['20110131', '20110228', '20110331', '20110430', '20110531']"
      ]
     },
     "execution_count": 7,
     "metadata": {},
     "output_type": "execute_result"
    }
   ],
   "source": [
    "end_dates[:5]"
   ]
  },
  {
   "cell_type": "code",
   "execution_count": 8,
   "metadata": {},
   "outputs": [
    {
     "data": {
      "text/plain": [
       "'20110101'"
      ]
     },
     "execution_count": 8,
     "metadata": {},
     "output_type": "execute_result"
    }
   ],
   "source": [
    "start_dates[0]"
   ]
  },
  {
   "cell_type": "code",
   "execution_count": null,
   "metadata": {},
   "outputs": [
    {
     "name": "stderr",
     "output_type": "stream",
     "text": [
      "  0%|          | 0/120 [00:00<?, ?it/s]"
     ]
    }
   ],
   "source": [
    "from tqdm import tqdm\n",
    "import pandas as pd\n",
    "import function_library as fl\n",
    "\n",
    "location = fl.get_icao('texas', 'houston')\n",
    "\n",
    "omega = []\n",
    "\n",
    "for idx in tqdm(range(len(start_dates))):\n",
    "    gen_month = fl.generate_month(location, start_dates[idx], end_dates[idx])\n",
    "    frm_month = fl.format_month(gen_month)\n",
    "    omega.append(frm_month)"
   ]
  },
  {
   "cell_type": "code",
   "execution_count": 11,
   "metadata": {},
   "outputs": [
    {
     "data": {
      "text/html": [
       "<div>\n",
       "<style scoped>\n",
       "    .dataframe tbody tr th:only-of-type {\n",
       "        vertical-align: middle;\n",
       "    }\n",
       "\n",
       "    .dataframe tbody tr th {\n",
       "        vertical-align: top;\n",
       "    }\n",
       "\n",
       "    .dataframe thead th {\n",
       "        text-align: right;\n",
       "    }\n",
       "</style>\n",
       "<table border=\"1\" class=\"dataframe\">\n",
       "  <thead>\n",
       "    <tr style=\"text-align: right;\">\n",
       "      <th></th>\n",
       "      <th></th>\n",
       "      <th></th>\n",
       "      <th></th>\n",
       "      <th>pressure</th>\n",
       "      <th>temp</th>\n",
       "      <th>feels_like</th>\n",
       "    </tr>\n",
       "    <tr>\n",
       "      <th>obs_name</th>\n",
       "      <th>year</th>\n",
       "      <th>month</th>\n",
       "      <th>day</th>\n",
       "      <th></th>\n",
       "      <th></th>\n",
       "      <th></th>\n",
       "    </tr>\n",
       "  </thead>\n",
       "  <tbody>\n",
       "    <tr>\n",
       "      <th rowspan=\"11\" valign=\"top\">Juneau</th>\n",
       "      <th rowspan=\"5\" valign=\"top\">2011</th>\n",
       "      <th rowspan=\"5\" valign=\"top\">01</th>\n",
       "      <th>01</th>\n",
       "      <td>30.06</td>\n",
       "      <td>36.0</td>\n",
       "      <td>29.0</td>\n",
       "    </tr>\n",
       "    <tr>\n",
       "      <th>02</th>\n",
       "      <td>30.10</td>\n",
       "      <td>38.0</td>\n",
       "      <td>31.0</td>\n",
       "    </tr>\n",
       "    <tr>\n",
       "      <th>03</th>\n",
       "      <td>30.05</td>\n",
       "      <td>39.0</td>\n",
       "      <td>31.0</td>\n",
       "    </tr>\n",
       "    <tr>\n",
       "      <th>04</th>\n",
       "      <td>29.69</td>\n",
       "      <td>41.0</td>\n",
       "      <td>37.0</td>\n",
       "    </tr>\n",
       "    <tr>\n",
       "      <th>05</th>\n",
       "      <td>29.71</td>\n",
       "      <td>37.0</td>\n",
       "      <td>36.0</td>\n",
       "    </tr>\n",
       "    <tr>\n",
       "      <th>...</th>\n",
       "      <th>...</th>\n",
       "      <th>...</th>\n",
       "      <td>...</td>\n",
       "      <td>...</td>\n",
       "      <td>...</td>\n",
       "    </tr>\n",
       "    <tr>\n",
       "      <th rowspan=\"4\" valign=\"top\">2020</th>\n",
       "      <th rowspan=\"4\" valign=\"top\">12</th>\n",
       "      <th>28</th>\n",
       "      <td>30.09</td>\n",
       "      <td>38.0</td>\n",
       "      <td>30.0</td>\n",
       "    </tr>\n",
       "    <tr>\n",
       "      <th>29</th>\n",
       "      <td>29.96</td>\n",
       "      <td>38.0</td>\n",
       "      <td>32.0</td>\n",
       "    </tr>\n",
       "    <tr>\n",
       "      <th>30</th>\n",
       "      <td>29.75</td>\n",
       "      <td>38.0</td>\n",
       "      <td>37.0</td>\n",
       "    </tr>\n",
       "    <tr>\n",
       "      <th>31</th>\n",
       "      <td>29.79</td>\n",
       "      <td>35.0</td>\n",
       "      <td>35.0</td>\n",
       "    </tr>\n",
       "    <tr>\n",
       "      <th>2021</th>\n",
       "      <th>01</th>\n",
       "      <th>01</th>\n",
       "      <td>29.59</td>\n",
       "      <td>30.0</td>\n",
       "      <td>30.0</td>\n",
       "    </tr>\n",
       "  </tbody>\n",
       "</table>\n",
       "<p>3335 rows × 3 columns</p>\n",
       "</div>"
      ],
      "text/plain": [
       "                         pressure  temp  feels_like\n",
       "obs_name year month day                            \n",
       "Juneau   2011 01    01      30.06  36.0        29.0\n",
       "                    02      30.10  38.0        31.0\n",
       "                    03      30.05  39.0        31.0\n",
       "                    04      29.69  41.0        37.0\n",
       "                    05      29.71  37.0        36.0\n",
       "...                           ...   ...         ...\n",
       "         2020 12    28      30.09  38.0        30.0\n",
       "                    29      29.96  38.0        32.0\n",
       "                    30      29.75  38.0        37.0\n",
       "                    31      29.79  35.0        35.0\n",
       "         2021 01    01      29.59  30.0        30.0\n",
       "\n",
       "[3335 rows x 3 columns]"
      ]
     },
     "execution_count": 11,
     "metadata": {},
     "output_type": "execute_result"
    }
   ],
   "source": [
    "df = fl.quick_group(pd.concat(omega)).max()\n",
    "df"
   ]
  },
  {
   "cell_type": "code",
   "execution_count": 12,
   "metadata": {},
   "outputs": [],
   "source": [
    "# To standardize the charts\n",
    "df['temp'][0] = 0\n",
    "df['temp'][-1] = 115"
   ]
  },
  {
   "cell_type": "code",
   "execution_count": 13,
   "metadata": {},
   "outputs": [
    {
     "data": {
      "text/html": [
       "<div>\n",
       "<style scoped>\n",
       "    .dataframe tbody tr th:only-of-type {\n",
       "        vertical-align: middle;\n",
       "    }\n",
       "\n",
       "    .dataframe tbody tr th {\n",
       "        vertical-align: top;\n",
       "    }\n",
       "\n",
       "    .dataframe thead th {\n",
       "        text-align: right;\n",
       "    }\n",
       "</style>\n",
       "<table border=\"1\" class=\"dataframe\">\n",
       "  <thead>\n",
       "    <tr style=\"text-align: right;\">\n",
       "      <th></th>\n",
       "      <th>pressure</th>\n",
       "      <th>temp</th>\n",
       "      <th>feels_like</th>\n",
       "    </tr>\n",
       "  </thead>\n",
       "  <tbody>\n",
       "    <tr>\n",
       "      <th>count</th>\n",
       "      <td>3335.000000</td>\n",
       "      <td>3335.000000</td>\n",
       "      <td>3335.000000</td>\n",
       "    </tr>\n",
       "    <tr>\n",
       "      <th>mean</th>\n",
       "      <td>29.967613</td>\n",
       "      <td>47.128036</td>\n",
       "      <td>45.392804</td>\n",
       "    </tr>\n",
       "    <tr>\n",
       "      <th>std</th>\n",
       "      <td>0.280513</td>\n",
       "      <td>13.163071</td>\n",
       "      <td>14.498717</td>\n",
       "    </tr>\n",
       "    <tr>\n",
       "      <th>min</th>\n",
       "      <td>28.940000</td>\n",
       "      <td>0.000000</td>\n",
       "      <td>-9.000000</td>\n",
       "    </tr>\n",
       "    <tr>\n",
       "      <th>25%</th>\n",
       "      <td>29.810000</td>\n",
       "      <td>38.000000</td>\n",
       "      <td>34.000000</td>\n",
       "    </tr>\n",
       "    <tr>\n",
       "      <th>50%</th>\n",
       "      <td>29.990000</td>\n",
       "      <td>47.000000</td>\n",
       "      <td>44.000000</td>\n",
       "    </tr>\n",
       "    <tr>\n",
       "      <th>75%</th>\n",
       "      <td>30.140000</td>\n",
       "      <td>57.000000</td>\n",
       "      <td>57.000000</td>\n",
       "    </tr>\n",
       "    <tr>\n",
       "      <th>max</th>\n",
       "      <td>30.870000</td>\n",
       "      <td>115.000000</td>\n",
       "      <td>85.000000</td>\n",
       "    </tr>\n",
       "  </tbody>\n",
       "</table>\n",
       "</div>"
      ],
      "text/plain": [
       "          pressure         temp   feels_like\n",
       "count  3335.000000  3335.000000  3335.000000\n",
       "mean     29.967613    47.128036    45.392804\n",
       "std       0.280513    13.163071    14.498717\n",
       "min      28.940000     0.000000    -9.000000\n",
       "25%      29.810000    38.000000    34.000000\n",
       "50%      29.990000    47.000000    44.000000\n",
       "75%      30.140000    57.000000    57.000000\n",
       "max      30.870000   115.000000    85.000000"
      ]
     },
     "execution_count": 13,
     "metadata": {},
     "output_type": "execute_result"
    }
   ],
   "source": [
    "df.describe()"
   ]
  },
  {
   "cell_type": "code",
   "execution_count": 14,
   "metadata": {},
   "outputs": [
    {
     "data": {
      "image/png": "[encoded data removed]",
      "text/plain": [
       "<Figure size 1728x864 with 2 Axes>"
      ]
     },
     "metadata": {},
     "output_type": "display_data"
    }
   ],
   "source": [
    "import matplotlib.pyplot as plt\n",
    "import seaborn as sns\n",
    "%matplotlib inline\n",
    "sns.set_theme()\n",
    "\n",
    "colormap = sns.color_palette('coolwarm')\n",
    "\n",
    "fig, ax = plt.subplots(figsize = (24, 12))\n",
    "sns.heatmap(data = df.loc[('Juneau', '2020')][['temp']], cmap = colormap);\n",
    "plt.show()"
   ]
  }
 ],
 "metadata": {
  "kernelspec": {
   "display_name": "Python 3",
   "language": "python",
   "name": "python3"
  },
  "language_info": {
   "codemirror_mode": {
    "name": "ipython",
    "version": 3
   },
   "file_extension": ".py",
   "mimetype": "text/x-python",
   "name": "python",
   "nbconvert_exporter": "python",
   "pygments_lexer": "ipython3",
   "version": "3.8.5"
  }
 },
 "nbformat": 4,
 "nbformat_minor": 4
}
